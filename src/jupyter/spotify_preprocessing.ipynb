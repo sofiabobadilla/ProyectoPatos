{
  "nbformat": 4,
  "nbformat_minor": 0,
  "metadata": {
    "colab": {
      "provenance": []
    },
    "kernelspec": {
      "name": "python3",
      "display_name": "Python 3"
    },
    "language_info": {
      "name": "python"
    }
  },
  "cells": [
    {
      "cell_type": "markdown",
      "source": [
        "## Preprocessing Spotify Data using a sample taken from Kaggle\n",
        "\n",
        "Our data is available at:\n",
        "https://www.kaggle.com/yamaerenay/spotify-dataset-19212020-160k-tracks\n",
        "\n"
      ],
      "metadata": {
        "id": "YM1IQ-bRYvoM"
      }
    },
    {
      "cell_type": "code",
      "source": [
        "# Importing libraries\n",
        "import pandas as pd\n",
        "import matplotlib.pyplot as plt\n",
        "import seaborn as sns; sns.set(style=\"ticks\", color_codes=True)\n",
        "import missingno as msno \n",
        "import numpy as np\n",
        "import re"
      ],
      "metadata": {
        "id": "HiuoMiYIYyXY"
      },
      "execution_count": null,
      "outputs": []
    },
    {
      "cell_type": "code",
      "metadata": {
        "id": "ADkzf29Mb63t"
      },
      "source": [
        "# import our tracks sample from google drive. Then, show a little sample\n",
        "ts = pd.read_csv('/content/tracks_sample.csv', sep='_')\n",
        "ts.head()"
      ],
      "execution_count": null,
      "outputs": []
    },
    {
      "cell_type": "code",
      "metadata": {
        "id": "m0VLWoyPcMT6"
      },
      "source": [
        "# Count soundtracks from a single artist\n",
        "count_singles = ts[~ts[\"id_artists\"].str.contains(',')]\n",
        "count_singles.id_artists.count()\n",
        "\n",
        "# There are only 16 collaborations (sounds made by more than one artist)\n",
        "# One artist may be a band"
      ],
      "execution_count": null,
      "outputs": []
    },
    {
      "cell_type": "markdown",
      "source": [
        "## Converting data\n",
        "\n",
        "Since we will be working with Pig Latin Tuples due to our assignment, we need to convert them changing weird characters.\n",
        "In case there is a different formatting, just write \"()\" "
      ],
      "metadata": {
        "id": "lD0m6Kz1aEb9"
      }
    },
    {
      "cell_type": "code",
      "metadata": {
        "id": "o5SFo6N-VeL2"
      },
      "source": [
        "# función para convertir listas de los datos en strings compatibles con las tuplas de pig\n",
        "\n",
        "def to_tuple(s):\n",
        "  if type(s) == str:\n",
        "    c = re.search(r\"(.*\\[)(.*)(\\].*)\", s)\n",
        "    if c:\n",
        "      center = c.group(2)\n",
        "      # Use this to debug in case there are some border cases with our regex\n",
        "     # import pdb\n",
        "     # pdb.set_trace()\n",
        "\n",
        "     # This will split our artists and collaborations\n",
        "      lista_inicial = center.split(',')\n",
        "      \n",
        "      # There may be some characters that must be stripped, like '_ \n",
        "      lista = []\n",
        "      for i in lista_inicial:\n",
        "        lista.append(i.strip(\"' \"))\n",
        "\n",
        "      # Wrap last element with {} and add commas between\n",
        "      # to make a result of the type {(element1), (element2), (element3)}\n",
        "      final = \"{\"\n",
        "      for j in lista[:-1]:\n",
        "        final = final + \"(\" + j + \")\" + \",\"\n",
        "      final += \"(\" + lista[-1] + \")}\"\n",
        "\n",
        "      return final\n",
        "    else:\n",
        "      return \"()\"\n",
        "  else:\n",
        "    return \"()\""
      ],
      "execution_count": null,
      "outputs": []
    },
    {
      "cell_type": "code",
      "metadata": {
        "id": "4vkn8cSdcMox"
      },
      "source": [
        "# Apply this function to our track sample \n",
        "\n",
        "ts_f = ts.copy()\n",
        "\n",
        "# Transform our types to string\n",
        "ts_f.artists = ts_f.artists.astype(str)\n",
        "ts_f.id_artists = ts_f.id_artists.astype(str)\n",
        "\n",
        "# And then transform them as PIG LATIN's tuples\n",
        "ts_f.artists = ts_f.artists.apply(to_tuple)\n",
        "ts_f.id_artists = ts_f.id_artists.apply(to_tuple)\n",
        "\n",
        "# Show a sample to make sure this worked as intended\n",
        "ts_f.head(50)"
      ],
      "execution_count": null,
      "outputs": []
    },
    {
      "cell_type": "code",
      "metadata": {
        "id": "H8hTtPNDJgJ1"
      },
      "source": [
        "# Import artists from a file in collab\n",
        "\n",
        "ar = pd.read_csv('/content/artists.csv')\n",
        "ar.head(50)"
      ],
      "execution_count": null,
      "outputs": []
    },
    {
      "cell_type": "code",
      "metadata": {
        "id": "HxFFxd5RJgDm"
      },
      "source": [
        "# Apply the same functions as before to our artists columns\n",
        "\n",
        "ar_f = ar.copy()\n",
        "\n",
        "ar_f.genres = ar_f.genres.astype(str)\n",
        "\n",
        "ar_f.genres = ar_f.genres.apply(to_tuple)\n",
        "\n",
        "ar_f.head(50)"
      ],
      "execution_count": null,
      "outputs": []
    },
    {
      "cell_type": "markdown",
      "source": [
        "### Saving our data\n",
        "\n",
        "Store these files as csv files, separated by a _ (since comma is being used for songs or artists inside a tuple) compressing them usin zip method"
      ],
      "metadata": {
        "id": "AVJAa34GeUze"
      }
    },
    {
      "cell_type": "code",
      "metadata": {
        "id": "2vM-20EipHm9"
      },
      "source": [
        "compression_opts_a = dict(method='zip',\n",
        "                        archive_name='artists_t.csv')  \n",
        "ar_f.to_csv('artists_t.zip', index=False, sep='_',\n",
        "          compression=compression_opts_a) "
      ],
      "execution_count": null,
      "outputs": []
    },
    {
      "cell_type": "code",
      "metadata": {
        "id": "xBh0-RO0pHfV"
      },
      "source": [
        "compression_opts_t = dict(method='zip',\n",
        "                        archive_name='tracks_t.csv')  \n",
        "ts_f.to_csv('tracks_t.zip', index=False, sep='_',\n",
        "          compression=compression_opts_t) "
      ],
      "execution_count": null,
      "outputs": []
    },
    {
      "cell_type": "markdown",
      "source": [
        "### Read files again and show some analysis"
      ],
      "metadata": {
        "id": "ySVUr8BEfGoc"
      }
    },
    {
      "cell_type": "code",
      "metadata": {
        "id": "ESKGEA5rwNPf"
      },
      "source": [
        "# importar tracks desde archivo subido a colab\n",
        "\n",
        "tr = pd.read_csv('/content/tracks.csv')\n",
        "ar = pd.read_csv('/content/artists.csv')"
      ],
      "execution_count": null,
      "outputs": []
    },
    {
      "cell_type": "code",
      "metadata": {
        "id": "4lxeT0idwNK9",
        "colab": {
          "base_uri": "https://localhost:8080/",
          "height": 204
        },
        "outputId": "0ebd3a8c-795b-4e31-bde2-4468006b0a8d"
      },
      "source": [
        "ar.head()"
      ],
      "execution_count": null,
      "outputs": [
        {
          "output_type": "execute_result",
          "data": {
            "text/html": [
              "<div>\n",
              "<style scoped>\n",
              "    .dataframe tbody tr th:only-of-type {\n",
              "        vertical-align: middle;\n",
              "    }\n",
              "\n",
              "    .dataframe tbody tr th {\n",
              "        vertical-align: top;\n",
              "    }\n",
              "\n",
              "    .dataframe thead th {\n",
              "        text-align: right;\n",
              "    }\n",
              "</style>\n",
              "<table border=\"1\" class=\"dataframe\">\n",
              "  <thead>\n",
              "    <tr style=\"text-align: right;\">\n",
              "      <th></th>\n",
              "      <th>id</th>\n",
              "      <th>followers</th>\n",
              "      <th>genres</th>\n",
              "      <th>name</th>\n",
              "      <th>popularity</th>\n",
              "    </tr>\n",
              "  </thead>\n",
              "  <tbody>\n",
              "    <tr>\n",
              "      <th>0</th>\n",
              "      <td>0DheY5irMjBUeLybbCUEZ2</td>\n",
              "      <td>0.0</td>\n",
              "      <td>[]</td>\n",
              "      <td>Armid &amp; Amir Zare Pashai feat. Sara Rouzbehani</td>\n",
              "      <td>0</td>\n",
              "    </tr>\n",
              "    <tr>\n",
              "      <th>1</th>\n",
              "      <td>0DlhY15l3wsrnlfGio2bjU</td>\n",
              "      <td>5.0</td>\n",
              "      <td>[]</td>\n",
              "      <td>ปูนา ภาวิณี</td>\n",
              "      <td>0</td>\n",
              "    </tr>\n",
              "    <tr>\n",
              "      <th>2</th>\n",
              "      <td>0DmRESX2JknGPQyO15yxg7</td>\n",
              "      <td>0.0</td>\n",
              "      <td>[]</td>\n",
              "      <td>Sadaa</td>\n",
              "      <td>0</td>\n",
              "    </tr>\n",
              "    <tr>\n",
              "      <th>3</th>\n",
              "      <td>0DmhnbHjm1qw6NCYPeZNgJ</td>\n",
              "      <td>0.0</td>\n",
              "      <td>[]</td>\n",
              "      <td>Tra'gruda</td>\n",
              "      <td>0</td>\n",
              "    </tr>\n",
              "    <tr>\n",
              "      <th>4</th>\n",
              "      <td>0Dn11fWM7vHQ3rinvWEl4E</td>\n",
              "      <td>2.0</td>\n",
              "      <td>[]</td>\n",
              "      <td>Ioannis Panoutsopoulos</td>\n",
              "      <td>0</td>\n",
              "    </tr>\n",
              "  </tbody>\n",
              "</table>\n",
              "</div>"
            ],
            "text/plain": [
              "                       id  ...  popularity\n",
              "0  0DheY5irMjBUeLybbCUEZ2  ...           0\n",
              "1  0DlhY15l3wsrnlfGio2bjU  ...           0\n",
              "2  0DmRESX2JknGPQyO15yxg7  ...           0\n",
              "3  0DmhnbHjm1qw6NCYPeZNgJ  ...           0\n",
              "4  0Dn11fWM7vHQ3rinvWEl4E  ...           0\n",
              "\n",
              "[5 rows x 5 columns]"
            ]
          },
          "metadata": {
            "tags": []
          },
          "execution_count": 3
        }
      ]
    },
    {
      "cell_type": "code",
      "metadata": {
        "id": "BVisezhmwNDe"
      },
      "source": [
        "ar.info()\n",
        "# Look into empty registries. Only 13 empty registries in followers column"
      ],
      "execution_count": null,
      "outputs": []
    },
    {
      "cell_type": "code",
      "metadata": {
        "id": "MhCF3ltAwM4y"
      },
      "source": [
        "msno.matrix(ar)"
      ],
      "execution_count": null,
      "outputs": []
    },
    {
      "cell_type": "code",
      "metadata": {
        "id": "wPbJwSKiwMqS"
      },
      "source": [
        "# Show columns names. Also, show dimensions of our artist dataset (rows x columns).\n",
        "print(\"Data:\",str(ar.columns),\"\\n\")\n",
        "print(\"Filas y columnas:\",str(ar.shape),\"\\n\")"
      ],
      "execution_count": null,
      "outputs": []
    },
    {
      "cell_type": "code",
      "metadata": {
        "id": "53aqPm9HwuZ_"
      },
      "source": [
        "# How many empty genres []\n",
        "ar_g = ar[~(ar.followers == 0.0)]\n",
        "print(\"no vacíos:\", ar_g.shape)\n",
        "print(ar.followers.value_counts())"
      ],
      "execution_count": null,
      "outputs": []
    },
    {
      "cell_type": "code",
      "metadata": {
        "id": "vA-KMC-Vwt-e"
      },
      "source": [
        "msno.matrix(tr)"
      ],
      "execution_count": null,
      "outputs": []
    },
    {
      "cell_type": "code",
      "metadata": {
        "id": "WzPZ2kihwt3g"
      },
      "source": [
        "# Show columns names. Also, show dimensions of our tracks dataset (rows x columns).\n",
        "print(\"Data:\",str(tr.columns),\"\\n\")\n",
        "print(\"Filas y columnas:\",str(tr.shape),\"\\n\")"
      ],
      "execution_count": null,
      "outputs": []
    },
    {
      "cell_type": "code",
      "metadata": {
        "id": "rchbfdJ1wtui"
      },
      "source": [
        "# Show popularity range\n",
        "print(\"Rango de popularity:\", min(tr.release_date), \"-\", max(tr.release_date))\n",
        "print(tr.explicit.value_counts())\n",
        "# We will clasify popular those tracks with popularity score more or equal to 50 \n",
        "# Since there are many unpopular tracks which have wrong, incorrect or empty data\n",
        "tr_no = tr[tr.popularity < 50]\n",
        "tr_si = tr[tr.popularity >= 50]\n",
        "print(tr_no.shape)\n",
        "print(tr_si.shape)\n",
        "#44690 en 0"
      ],
      "execution_count": null,
      "outputs": []
    },
    {
      "cell_type": "markdown",
      "source": [
        "### Making some plots to understand our data better"
      ],
      "metadata": {
        "id": "j3Tj5LS-gYoq"
      }
    },
    {
      "cell_type": "code",
      "metadata": {
        "id": "KGEsHLLH9KCY"
      },
      "source": [
        "# Show histogram/distribution of our soundtracks according to their characteristics\n",
        "# Like popularity, danceability, and so on.\n",
        "\n",
        "#sns.histplot(data=tr, x=\"popularity\", bins=25)\n",
        "#sns.histplot(data=tr, x=\"danceability\", bins=50)\n",
        "#sns.histplot(data=tr, x=\"instrumentalness\", bins=25)\n",
        "#sns.histplot(data=tr, x=\"danceability\", bins=25)\n",
        "#sns.countplot(data=tr, x=\"key\")\n",
        "\n",
        "# Store some graphs for our presentation\n",
        "plt.figure(figsize=(10,5))\n",
        "ax=sns.histplot(data=tr, x=\"valence\", bins=50)\n",
        "ax.set_xlabel('danceability')\n",
        "ax.set_ylabel('frequency')\n",
        "ax.set_title('Distribución de frecuencias: \"danceability\"')\n",
        "\n",
        "#plt.savefig('danceability.png', dpi=300)"
      ],
      "execution_count": null,
      "outputs": []
    },
    {
      "cell_type": "code",
      "metadata": {
        "id": "RqqioGt8AboI"
      },
      "source": [
        "plt.figure(figsize=(10,5))\n",
        "ax=sns.countplot(data=tr, x=\"key\")\n",
        "ax.set_xlabel('key')\n",
        "ax.set_ylabel('frequency')\n",
        "ax.set_title('Distribución de frecuencias: \"key\"')\n",
        "\n",
        "plt.savefig('key2.png', dpi=300)"
      ],
      "execution_count": null,
      "outputs": []
    },
    {
      "cell_type": "code",
      "metadata": {
        "colab": {
          "base_uri": "https://localhost:8080/",
          "height": 355
        },
        "id": "EZoKQc3B42fg",
        "outputId": "dbbda9e4-b97c-4261-8dc9-a0825a690eeb"
      },
      "source": [
        "labels = ['C', 'C#', 'D', 'D#', 'E', 'F', 'F#', 'G', 'G#', 'A', 'A#', 'B']\n",
        "\n",
        "\n",
        "plt.figure(figsize=(10,5))\n",
        "ax=sns.countplot(data=tr, x=\"key\")\n",
        "ax.set_xlabel('key')\n",
        "ax.set_ylabel('frequency')\n",
        "# Set number of ticks for x-axis\n",
        "ax.set_xticks(np.arange(len(labels)))\n",
        "# Set ticks labels for x-axis\n",
        "ax.set_xticklabels(labels)\n",
        "\n",
        "ax.set_title('Distribución de frecuencias: \"key\"')\n",
        "\n",
        "plt.savefig('key2.png', dpi=300)"
      ],
      "execution_count": null,
      "outputs": [
        {
          "output_type": "display_data",
          "data": {
            "image/png": "[encoded data removed]",
            "text/plain": [
              "<Figure size 720x360 with 1 Axes>"
            ]
          },
          "metadata": {
            "tags": [],
            "needs_background": "light"
          }
        }
      ]
    },
    {
      "cell_type": "code",
      "metadata": {
        "id": "pHGsKCk6Abbv"
      },
      "source": [
        "# Showing a distribution of popularity\n",
        "\n",
        "plt.figure(figsize=(10,5))\n",
        "ax=sns.histplot(data=tr, x=\"popularity\", bins=50)\n",
        "ax.set_xlabel('popularity')\n",
        "ax.set_ylabel('frequency')\n",
        "ax.set_title('Distribución de frecuencias: \"popularity\"')\n",
        "\n",
        "plt.savefig('popularity.png', dpi=300)"
      ],
      "execution_count": null,
      "outputs": []
    },
    {
      "cell_type": "code",
      "metadata": {
        "id": "uJA-_pNqaHcU",
        "colab": {
          "base_uri": "https://localhost:8080/",
          "height": 671
        },
        "outputId": "c2893f07-689a-459f-c38d-f729a8220e13"
      },
      "source": [
        "tr[tr.artists.str.contains('TOMORROW X TOGETHER')]"
      ],
      "execution_count": null,
      "outputs": [
        {
          "output_type": "execute_result",
          "data": {
            "text/html": [
              "<div>\n",
              "<style scoped>\n",
              "    .dataframe tbody tr th:only-of-type {\n",
              "        vertical-align: middle;\n",
              "    }\n",
              "\n",
              "    .dataframe tbody tr th {\n",
              "        vertical-align: top;\n",
              "    }\n",
              "\n",
              "    .dataframe thead th {\n",
              "        text-align: right;\n",
              "    }\n",
              "</style>\n",
              "<table border=\"1\" class=\"dataframe\">\n",
              "  <thead>\n",
              "    <tr style=\"text-align: right;\">\n",
              "      <th></th>\n",
              "      <th>id</th>\n",
              "      <th>name</th>\n",
              "      <th>popularity</th>\n",
              "      <th>duration_ms</th>\n",
              "      <th>explicit</th>\n",
              "      <th>artists</th>\n",
              "      <th>id_artists</th>\n",
              "      <th>release_date</th>\n",
              "      <th>danceability</th>\n",
              "      <th>energy</th>\n",
              "      <th>key</th>\n",
              "      <th>loudness</th>\n",
              "      <th>mode</th>\n",
              "      <th>speechiness</th>\n",
              "      <th>acousticness</th>\n",
              "      <th>instrumentalness</th>\n",
              "      <th>liveness</th>\n",
              "      <th>valence</th>\n",
              "      <th>tempo</th>\n",
              "      <th>time_signature</th>\n",
              "    </tr>\n",
              "  </thead>\n",
              "  <tbody>\n",
              "    <tr>\n",
              "      <th>93748</th>\n",
              "      <td>3ObPkJQAgjAhTwYvDhPrAW</td>\n",
              "      <td>Blue Hour</td>\n",
              "      <td>76</td>\n",
              "      <td>209105</td>\n",
              "      <td>0</td>\n",
              "      <td>['TOMORROW X TOGETHER']</td>\n",
              "      <td>['0ghlgldX5Dd6720Q3qFyQB']</td>\n",
              "      <td>2020-10-26</td>\n",
              "      <td>0.710</td>\n",
              "      <td>0.820</td>\n",
              "      <td>3</td>\n",
              "      <td>-4.362</td>\n",
              "      <td>0</td>\n",
              "      <td>0.0836</td>\n",
              "      <td>0.00962</td>\n",
              "      <td>0.000000</td>\n",
              "      <td>0.0871</td>\n",
              "      <td>0.746</td>\n",
              "      <td>112.005</td>\n",
              "      <td>4</td>\n",
              "    </tr>\n",
              "    <tr>\n",
              "      <th>211469</th>\n",
              "      <td>0EmYZZ8OqeALedVhijSjsg</td>\n",
              "      <td>CROWN</td>\n",
              "      <td>69</td>\n",
              "      <td>230707</td>\n",
              "      <td>0</td>\n",
              "      <td>['TOMORROW X TOGETHER']</td>\n",
              "      <td>['0ghlgldX5Dd6720Q3qFyQB']</td>\n",
              "      <td>2019-03-04</td>\n",
              "      <td>0.623</td>\n",
              "      <td>0.800</td>\n",
              "      <td>5</td>\n",
              "      <td>-5.819</td>\n",
              "      <td>1</td>\n",
              "      <td>0.0424</td>\n",
              "      <td>0.04970</td>\n",
              "      <td>0.000000</td>\n",
              "      <td>0.0619</td>\n",
              "      <td>0.580</td>\n",
              "      <td>110.979</td>\n",
              "      <td>4</td>\n",
              "    </tr>\n",
              "    <tr>\n",
              "      <th>337140</th>\n",
              "      <td>1rqb2FCXVn2HNL1afJEnTr</td>\n",
              "      <td>9 and Three Quarters - Run Away</td>\n",
              "      <td>68</td>\n",
              "      <td>211867</td>\n",
              "      <td>0</td>\n",
              "      <td>['TOMORROW X TOGETHER']</td>\n",
              "      <td>['0ghlgldX5Dd6720Q3qFyQB']</td>\n",
              "      <td>2019-10-21</td>\n",
              "      <td>0.639</td>\n",
              "      <td>0.756</td>\n",
              "      <td>1</td>\n",
              "      <td>-4.420</td>\n",
              "      <td>1</td>\n",
              "      <td>0.0606</td>\n",
              "      <td>0.00550</td>\n",
              "      <td>0.000000</td>\n",
              "      <td>0.1300</td>\n",
              "      <td>0.531</td>\n",
              "      <td>128.931</td>\n",
              "      <td>4</td>\n",
              "    </tr>\n",
              "    <tr>\n",
              "      <th>406444</th>\n",
              "      <td>3zLCX1TGMpsA67cW2pq6ut</td>\n",
              "      <td>永遠に光れ (Everlasting Shine)</td>\n",
              "      <td>67</td>\n",
              "      <td>191147</td>\n",
              "      <td>0</td>\n",
              "      <td>['TOMORROW X TOGETHER']</td>\n",
              "      <td>['0ghlgldX5Dd6720Q3qFyQB']</td>\n",
              "      <td>2020-08-18</td>\n",
              "      <td>0.527</td>\n",
              "      <td>0.891</td>\n",
              "      <td>7</td>\n",
              "      <td>-1.511</td>\n",
              "      <td>0</td>\n",
              "      <td>0.0724</td>\n",
              "      <td>0.11900</td>\n",
              "      <td>0.000000</td>\n",
              "      <td>0.2080</td>\n",
              "      <td>0.390</td>\n",
              "      <td>127.097</td>\n",
              "      <td>4</td>\n",
              "    </tr>\n",
              "    <tr>\n",
              "      <th>562156</th>\n",
              "      <td>5iLS8IJ5HA1xwd7R9q2hJ2</td>\n",
              "      <td>CROWN</td>\n",
              "      <td>53</td>\n",
              "      <td>230707</td>\n",
              "      <td>0</td>\n",
              "      <td>['TOMORROW X TOGETHER']</td>\n",
              "      <td>['0ghlgldX5Dd6720Q3qFyQB']</td>\n",
              "      <td>2019-03-04</td>\n",
              "      <td>0.622</td>\n",
              "      <td>0.800</td>\n",
              "      <td>5</td>\n",
              "      <td>-5.819</td>\n",
              "      <td>1</td>\n",
              "      <td>0.0425</td>\n",
              "      <td>0.05050</td>\n",
              "      <td>0.000000</td>\n",
              "      <td>0.0619</td>\n",
              "      <td>0.580</td>\n",
              "      <td>110.977</td>\n",
              "      <td>4</td>\n",
              "    </tr>\n",
              "    <tr>\n",
              "      <th>562161</th>\n",
              "      <td>3psGiE7CXKwFpCH06Gk8tm</td>\n",
              "      <td>9 and Three Quarters (Run Away)</td>\n",
              "      <td>53</td>\n",
              "      <td>211827</td>\n",
              "      <td>0</td>\n",
              "      <td>['TOMORROW X TOGETHER']</td>\n",
              "      <td>['0ghlgldX5Dd6720Q3qFyQB']</td>\n",
              "      <td>2019-10-21</td>\n",
              "      <td>0.629</td>\n",
              "      <td>0.763</td>\n",
              "      <td>1</td>\n",
              "      <td>-4.410</td>\n",
              "      <td>1</td>\n",
              "      <td>0.0628</td>\n",
              "      <td>0.00428</td>\n",
              "      <td>0.000000</td>\n",
              "      <td>0.1150</td>\n",
              "      <td>0.521</td>\n",
              "      <td>128.970</td>\n",
              "      <td>4</td>\n",
              "    </tr>\n",
              "    <tr>\n",
              "      <th>562511</th>\n",
              "      <td>3nY2X9xh3FmqulGyEiYuCe</td>\n",
              "      <td>Cat &amp; Dog</td>\n",
              "      <td>45</td>\n",
              "      <td>187573</td>\n",
              "      <td>0</td>\n",
              "      <td>['TOMORROW X TOGETHER']</td>\n",
              "      <td>['0ghlgldX5Dd6720Q3qFyQB']</td>\n",
              "      <td>2019-03-04</td>\n",
              "      <td>0.843</td>\n",
              "      <td>0.794</td>\n",
              "      <td>8</td>\n",
              "      <td>-3.013</td>\n",
              "      <td>1</td>\n",
              "      <td>0.1470</td>\n",
              "      <td>0.06680</td>\n",
              "      <td>0.000223</td>\n",
              "      <td>0.1040</td>\n",
              "      <td>0.319</td>\n",
              "      <td>160.001</td>\n",
              "      <td>4</td>\n",
              "    </tr>\n",
              "    <tr>\n",
              "      <th>562665</th>\n",
              "      <td>0JQHGu03YJikcND4SENdiW</td>\n",
              "      <td>Blue Hour</td>\n",
              "      <td>56</td>\n",
              "      <td>209105</td>\n",
              "      <td>0</td>\n",
              "      <td>['TOMORROW X TOGETHER']</td>\n",
              "      <td>['0ghlgldX5Dd6720Q3qFyQB']</td>\n",
              "      <td>2020-10-26</td>\n",
              "      <td>0.710</td>\n",
              "      <td>0.820</td>\n",
              "      <td>3</td>\n",
              "      <td>-4.362</td>\n",
              "      <td>0</td>\n",
              "      <td>0.0836</td>\n",
              "      <td>0.00962</td>\n",
              "      <td>0.000000</td>\n",
              "      <td>0.0871</td>\n",
              "      <td>0.746</td>\n",
              "      <td>112.005</td>\n",
              "      <td>4</td>\n",
              "    </tr>\n",
              "    <tr>\n",
              "      <th>562907</th>\n",
              "      <td>7vg9RiUGZOsKtKbmRo4yZB</td>\n",
              "      <td>Can't You See Me?</td>\n",
              "      <td>49</td>\n",
              "      <td>201440</td>\n",
              "      <td>0</td>\n",
              "      <td>['TOMORROW X TOGETHER']</td>\n",
              "      <td>['0ghlgldX5Dd6720Q3qFyQB']</td>\n",
              "      <td>2020-05-18</td>\n",
              "      <td>0.588</td>\n",
              "      <td>0.815</td>\n",
              "      <td>9</td>\n",
              "      <td>-3.042</td>\n",
              "      <td>0</td>\n",
              "      <td>0.0915</td>\n",
              "      <td>0.05560</td>\n",
              "      <td>0.000000</td>\n",
              "      <td>0.1930</td>\n",
              "      <td>0.664</td>\n",
              "      <td>139.974</td>\n",
              "      <td>4</td>\n",
              "    </tr>\n",
              "  </tbody>\n",
              "</table>\n",
              "</div>"
            ],
            "text/plain": [
              "                            id  ... time_signature\n",
              "93748   3ObPkJQAgjAhTwYvDhPrAW  ...              4\n",
              "211469  0EmYZZ8OqeALedVhijSjsg  ...              4\n",
              "337140  1rqb2FCXVn2HNL1afJEnTr  ...              4\n",
              "406444  3zLCX1TGMpsA67cW2pq6ut  ...              4\n",
              "562156  5iLS8IJ5HA1xwd7R9q2hJ2  ...              4\n",
              "562161  3psGiE7CXKwFpCH06Gk8tm  ...              4\n",
              "562511  3nY2X9xh3FmqulGyEiYuCe  ...              4\n",
              "562665  0JQHGu03YJikcND4SENdiW  ...              4\n",
              "562907  7vg9RiUGZOsKtKbmRo4yZB  ...              4\n",
              "\n",
              "[9 rows x 20 columns]"
            ]
          },
          "metadata": {
            "tags": []
          },
          "execution_count": 4
        }
      ]
    },
    {
      "cell_type": "code",
      "metadata": {
        "colab": {
          "base_uri": "https://localhost:8080/",
          "height": 1000
        },
        "id": "g-VMzLyUN19F",
        "outputId": "2f0a730c-22c1-4f4a-8444-62cd5c7ac1dc"
      },
      "source": [
        "tr[tr.id_artists.str.contains(\"3UYZxxxrntUxxEeRycqHvq\")]"
      ],
      "execution_count": null,
      "outputs": [
        {
          "output_type": "execute_result",
          "data": {
            "text/html": [
              "<div>\n",
              "<style scoped>\n",
              "    .dataframe tbody tr th:only-of-type {\n",
              "        vertical-align: middle;\n",
              "    }\n",
              "\n",
              "    .dataframe tbody tr th {\n",
              "        vertical-align: top;\n",
              "    }\n",
              "\n",
              "    .dataframe thead th {\n",
              "        text-align: right;\n",
              "    }\n",
              "</style>\n",
              "<table border=\"1\" class=\"dataframe\">\n",
              "  <thead>\n",
              "    <tr style=\"text-align: right;\">\n",
              "      <th></th>\n",
              "      <th>id</th>\n",
              "      <th>name</th>\n",
              "      <th>popularity</th>\n",
              "      <th>duration_ms</th>\n",
              "      <th>explicit</th>\n",
              "      <th>artists</th>\n",
              "      <th>id_artists</th>\n",
              "      <th>release_date</th>\n",
              "      <th>danceability</th>\n",
              "      <th>energy</th>\n",
              "      <th>key</th>\n",
              "      <th>loudness</th>\n",
              "      <th>mode</th>\n",
              "      <th>speechiness</th>\n",
              "      <th>acousticness</th>\n",
              "      <th>instrumentalness</th>\n",
              "      <th>liveness</th>\n",
              "      <th>valence</th>\n",
              "      <th>tempo</th>\n",
              "      <th>time_signature</th>\n",
              "    </tr>\n",
              "  </thead>\n",
              "  <tbody>\n",
              "    <tr>\n",
              "      <th>24327</th>\n",
              "      <td>0QfEupOVMNSA9z0f9HNFAc</td>\n",
              "      <td>Rigoletto, Act I: Caro nome</td>\n",
              "      <td>0</td>\n",
              "      <td>450613</td>\n",
              "      <td>0</td>\n",
              "      <td>['Giuseppe Verdi', 'Maria Callas', 'Milan La S...</td>\n",
              "      <td>['1JOQXgYdQV2yfrhewqx96o', '0bjdfjE8XbLa2Odstu...</td>\n",
              "      <td>1950</td>\n",
              "      <td>0.216</td>\n",
              "      <td>0.0649</td>\n",
              "      <td>4</td>\n",
              "      <td>-17.582</td>\n",
              "      <td>1</td>\n",
              "      <td>0.0493</td>\n",
              "      <td>0.985</td>\n",
              "      <td>0.043600</td>\n",
              "      <td>0.0680</td>\n",
              "      <td>0.0601</td>\n",
              "      <td>73.004</td>\n",
              "      <td>4</td>\n",
              "    </tr>\n",
              "    <tr>\n",
              "      <th>24339</th>\n",
              "      <td>0RWkYSfrNA9JGQG546OHSB</td>\n",
              "      <td>La forza del destino: Act I: Me, pellegrina ed...</td>\n",
              "      <td>1</td>\n",
              "      <td>227427</td>\n",
              "      <td>0</td>\n",
              "      <td>['Giuseppe Verdi', 'Maria Callas', 'Milan La S...</td>\n",
              "      <td>['1JOQXgYdQV2yfrhewqx96o', '0bjdfjE8XbLa2Odstu...</td>\n",
              "      <td>1950</td>\n",
              "      <td>0.227</td>\n",
              "      <td>0.0589</td>\n",
              "      <td>5</td>\n",
              "      <td>-20.789</td>\n",
              "      <td>1</td>\n",
              "      <td>0.0513</td>\n",
              "      <td>0.973</td>\n",
              "      <td>0.000034</td>\n",
              "      <td>0.2440</td>\n",
              "      <td>0.0665</td>\n",
              "      <td>184.825</td>\n",
              "      <td>4</td>\n",
              "    </tr>\n",
              "    <tr>\n",
              "      <th>26906</th>\n",
              "      <td>21SoChM94cdFo6wYs52njq</td>\n",
              "      <td>I Puritani (1997 - Remaster), Act III: Vieni, ...</td>\n",
              "      <td>5</td>\n",
              "      <td>167640</td>\n",
              "      <td>0</td>\n",
              "      <td>['Vincenzo Bellini', 'Maria Callas', 'Giuseppe...</td>\n",
              "      <td>['6AphpMkKDU4I3Z6XaGu1UV', '0bjdfjE8XbLa2Odstu...</td>\n",
              "      <td>1953</td>\n",
              "      <td>0.337</td>\n",
              "      <td>0.1380</td>\n",
              "      <td>11</td>\n",
              "      <td>-15.100</td>\n",
              "      <td>1</td>\n",
              "      <td>0.0374</td>\n",
              "      <td>0.980</td>\n",
              "      <td>0.003120</td>\n",
              "      <td>0.1030</td>\n",
              "      <td>0.1520</td>\n",
              "      <td>89.568</td>\n",
              "      <td>4</td>\n",
              "    </tr>\n",
              "    <tr>\n",
              "      <th>27008</th>\n",
              "      <td>6CiHZsaZX85koN7FyUMZp2</td>\n",
              "      <td>I Puritani (1997 - Remaster), Act II: Ah! dolo...</td>\n",
              "      <td>7</td>\n",
              "      <td>333840</td>\n",
              "      <td>0</td>\n",
              "      <td>['Vincenzo Bellini', 'Coro Del Teatro Alla Sca...</td>\n",
              "      <td>['6AphpMkKDU4I3Z6XaGu1UV', '7FMCfu4mkrKZd36Pj4...</td>\n",
              "      <td>1953</td>\n",
              "      <td>0.213</td>\n",
              "      <td>0.1360</td>\n",
              "      <td>7</td>\n",
              "      <td>-17.522</td>\n",
              "      <td>1</td>\n",
              "      <td>0.0397</td>\n",
              "      <td>0.990</td>\n",
              "      <td>0.689000</td>\n",
              "      <td>0.0895</td>\n",
              "      <td>0.0548</td>\n",
              "      <td>81.527</td>\n",
              "      <td>4</td>\n",
              "    </tr>\n",
              "    <tr>\n",
              "      <th>27053</th>\n",
              "      <td>00ix9pnoMdmVxfMZLEB56Q</td>\n",
              "      <td>Bellini: I Puritani, Act 2: \"Qual novella?\" (C...</td>\n",
              "      <td>0</td>\n",
              "      <td>180307</td>\n",
              "      <td>0</td>\n",
              "      <td>['Vincenzo Bellini', 'Nicola Rossi-Lemeni', 'C...</td>\n",
              "      <td>['6AphpMkKDU4I3Z6XaGu1UV', '01n5AdvwJa896npTFr...</td>\n",
              "      <td>1953</td>\n",
              "      <td>0.300</td>\n",
              "      <td>0.1560</td>\n",
              "      <td>8</td>\n",
              "      <td>-18.115</td>\n",
              "      <td>1</td>\n",
              "      <td>0.0388</td>\n",
              "      <td>0.982</td>\n",
              "      <td>0.298000</td>\n",
              "      <td>0.1730</td>\n",
              "      <td>0.0522</td>\n",
              "      <td>57.245</td>\n",
              "      <td>4</td>\n",
              "    </tr>\n",
              "    <tr>\n",
              "      <th>...</th>\n",
              "      <td>...</td>\n",
              "      <td>...</td>\n",
              "      <td>...</td>\n",
              "      <td>...</td>\n",
              "      <td>...</td>\n",
              "      <td>...</td>\n",
              "      <td>...</td>\n",
              "      <td>...</td>\n",
              "      <td>...</td>\n",
              "      <td>...</td>\n",
              "      <td>...</td>\n",
              "      <td>...</td>\n",
              "      <td>...</td>\n",
              "      <td>...</td>\n",
              "      <td>...</td>\n",
              "      <td>...</td>\n",
              "      <td>...</td>\n",
              "      <td>...</td>\n",
              "      <td>...</td>\n",
              "      <td>...</td>\n",
              "    </tr>\n",
              "    <tr>\n",
              "      <th>565015</th>\n",
              "      <td>1YFlcTIv4EJIYa41FbCsG8</td>\n",
              "      <td>La Bohème / Act 3: \"Mimì è una civetta\"</td>\n",
              "      <td>3</td>\n",
              "      <td>80373</td>\n",
              "      <td>0</td>\n",
              "      <td>['Giacomo Puccini', 'Carlo Bergonzi', 'Ettore ...</td>\n",
              "      <td>['0OzxPXyowUEQ532c9AmHUR', '3ALYsjti5tptGpfAgE...</td>\n",
              "      <td>1959-01-01</td>\n",
              "      <td>0.279</td>\n",
              "      <td>0.1790</td>\n",
              "      <td>9</td>\n",
              "      <td>-19.964</td>\n",
              "      <td>0</td>\n",
              "      <td>0.0347</td>\n",
              "      <td>0.973</td>\n",
              "      <td>0.001750</td>\n",
              "      <td>0.4500</td>\n",
              "      <td>0.1500</td>\n",
              "      <td>88.525</td>\n",
              "      <td>3</td>\n",
              "    </tr>\n",
              "    <tr>\n",
              "      <th>565017</th>\n",
              "      <td>3uPuMSGB8uvyGiX9e2EIwo</td>\n",
              "      <td>La Bohème / Act 3: \"Marcello. Finalmente!\"</td>\n",
              "      <td>3</td>\n",
              "      <td>79467</td>\n",
              "      <td>0</td>\n",
              "      <td>['Giacomo Puccini', 'Carlo Bergonzi', 'Ettore ...</td>\n",
              "      <td>['0OzxPXyowUEQ532c9AmHUR', '3ALYsjti5tptGpfAgE...</td>\n",
              "      <td>1959-01-01</td>\n",
              "      <td>0.384</td>\n",
              "      <td>0.3130</td>\n",
              "      <td>6</td>\n",
              "      <td>-19.874</td>\n",
              "      <td>0</td>\n",
              "      <td>0.0818</td>\n",
              "      <td>0.954</td>\n",
              "      <td>0.011100</td>\n",
              "      <td>0.7190</td>\n",
              "      <td>0.4640</td>\n",
              "      <td>91.872</td>\n",
              "      <td>4</td>\n",
              "    </tr>\n",
              "    <tr>\n",
              "      <th>565020</th>\n",
              "      <td>5xLc8XLym4hYIgUV0Q0YE1</td>\n",
              "      <td>La Bohème / Act 3: \"Mimì è tanto malata!\"</td>\n",
              "      <td>3</td>\n",
              "      <td>199960</td>\n",
              "      <td>0</td>\n",
              "      <td>['Giacomo Puccini', 'Carlo Bergonzi', 'Ettore ...</td>\n",
              "      <td>['0OzxPXyowUEQ532c9AmHUR', '3ALYsjti5tptGpfAgE...</td>\n",
              "      <td>1959-01-01</td>\n",
              "      <td>0.238</td>\n",
              "      <td>0.2160</td>\n",
              "      <td>10</td>\n",
              "      <td>-19.969</td>\n",
              "      <td>0</td>\n",
              "      <td>0.0440</td>\n",
              "      <td>0.958</td>\n",
              "      <td>0.000358</td>\n",
              "      <td>0.2080</td>\n",
              "      <td>0.0629</td>\n",
              "      <td>90.524</td>\n",
              "      <td>4</td>\n",
              "    </tr>\n",
              "    <tr>\n",
              "      <th>565022</th>\n",
              "      <td>6nGfwmTATN7TnJFHpdU6LS</td>\n",
              "      <td>La Bohème / Act 3: \"Dunque: è proprio finita!....</td>\n",
              "      <td>3</td>\n",
              "      <td>385227</td>\n",
              "      <td>0</td>\n",
              "      <td>['Giacomo Puccini', 'Carlo Bergonzi', 'Renata ...</td>\n",
              "      <td>['0OzxPXyowUEQ532c9AmHUR', '3ALYsjti5tptGpfAgE...</td>\n",
              "      <td>1959-01-01</td>\n",
              "      <td>0.175</td>\n",
              "      <td>0.1280</td>\n",
              "      <td>6</td>\n",
              "      <td>-19.290</td>\n",
              "      <td>1</td>\n",
              "      <td>0.0430</td>\n",
              "      <td>0.932</td>\n",
              "      <td>0.002200</td>\n",
              "      <td>0.0758</td>\n",
              "      <td>0.0399</td>\n",
              "      <td>88.033</td>\n",
              "      <td>4</td>\n",
              "    </tr>\n",
              "    <tr>\n",
              "      <th>570339</th>\n",
              "      <td>3leIaV9oFryMvVsC0EMIW7</td>\n",
              "      <td>Mefistofele, Act III: L'altra notte in fondo a...</td>\n",
              "      <td>2</td>\n",
              "      <td>447200</td>\n",
              "      <td>0</td>\n",
              "      <td>['Arrigo Boito', 'Maria Callas', 'Philharmonia...</td>\n",
              "      <td>['4QHgItlRsXcYDTm3eJoFDP', '0bjdfjE8XbLa2Odstu...</td>\n",
              "      <td>1954</td>\n",
              "      <td>0.151</td>\n",
              "      <td>0.0499</td>\n",
              "      <td>2</td>\n",
              "      <td>-18.711</td>\n",
              "      <td>1</td>\n",
              "      <td>0.0459</td>\n",
              "      <td>0.983</td>\n",
              "      <td>0.019900</td>\n",
              "      <td>0.1140</td>\n",
              "      <td>0.0382</td>\n",
              "      <td>78.136</td>\n",
              "      <td>4</td>\n",
              "    </tr>\n",
              "  </tbody>\n",
              "</table>\n",
              "<p>596 rows × 20 columns</p>\n",
              "</div>"
            ],
            "text/plain": [
              "                            id  ... time_signature\n",
              "24327   0QfEupOVMNSA9z0f9HNFAc  ...              4\n",
              "24339   0RWkYSfrNA9JGQG546OHSB  ...              4\n",
              "26906   21SoChM94cdFo6wYs52njq  ...              4\n",
              "27008   6CiHZsaZX85koN7FyUMZp2  ...              4\n",
              "27053   00ix9pnoMdmVxfMZLEB56Q  ...              4\n",
              "...                        ...  ...            ...\n",
              "565015  1YFlcTIv4EJIYa41FbCsG8  ...              3\n",
              "565017  3uPuMSGB8uvyGiX9e2EIwo  ...              4\n",
              "565020  5xLc8XLym4hYIgUV0Q0YE1  ...              4\n",
              "565022  6nGfwmTATN7TnJFHpdU6LS  ...              4\n",
              "570339  3leIaV9oFryMvVsC0EMIW7  ...              4\n",
              "\n",
              "[596 rows x 20 columns]"
            ]
          },
          "metadata": {
            "tags": []
          },
          "execution_count": 16
        }
      ]
    },
    {
      "cell_type": "code",
      "metadata": {
        "colab": {
          "base_uri": "https://localhost:8080/",
          "height": 80
        },
        "id": "PiW4HtrhS2pX",
        "outputId": "178d8ebb-84e3-47d1-c469-15cde2cd0d51"
      },
      "source": [
        "ar[ar.id.str.contains(\"6aMD1KAa5i3Myy61cR8FiW\")]"
      ],
      "execution_count": null,
      "outputs": [
        {
          "output_type": "execute_result",
          "data": {
            "text/html": [
              "<div>\n",
              "<style scoped>\n",
              "    .dataframe tbody tr th:only-of-type {\n",
              "        vertical-align: middle;\n",
              "    }\n",
              "\n",
              "    .dataframe tbody tr th {\n",
              "        vertical-align: top;\n",
              "    }\n",
              "\n",
              "    .dataframe thead th {\n",
              "        text-align: right;\n",
              "    }\n",
              "</style>\n",
              "<table border=\"1\" class=\"dataframe\">\n",
              "  <thead>\n",
              "    <tr style=\"text-align: right;\">\n",
              "      <th></th>\n",
              "      <th>id</th>\n",
              "      <th>followers</th>\n",
              "      <th>genres</th>\n",
              "      <th>name</th>\n",
              "      <th>popularity</th>\n",
              "    </tr>\n",
              "  </thead>\n",
              "  <tbody>\n",
              "    <tr>\n",
              "      <th>141185</th>\n",
              "      <td>6aMD1KAa5i3Myy61cR8FiW</td>\n",
              "      <td>7339.0</td>\n",
              "      <td>['barnsagor']</td>\n",
              "      <td>Tintin</td>\n",
              "      <td>57</td>\n",
              "    </tr>\n",
              "  </tbody>\n",
              "</table>\n",
              "</div>"
            ],
            "text/plain": [
              "                            id  followers         genres    name  popularity\n",
              "141185  6aMD1KAa5i3Myy61cR8FiW     7339.0  ['barnsagor']  Tintin          57"
            ]
          },
          "metadata": {
            "tags": []
          },
          "execution_count": 17
        }
      ]
    }
  ]
}